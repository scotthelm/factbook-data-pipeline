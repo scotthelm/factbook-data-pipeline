{
 "cells": [
  {
   "cell_type": "code",
   "execution_count": 21,
   "id": "4e47d063",
   "metadata": {},
   "outputs": [],
   "source": [
    "import pandas as pd"
   ]
  },
  {
   "cell_type": "code",
   "execution_count": 22,
   "id": "1d52ddc1",
   "metadata": {},
   "outputs": [],
   "source": [
    "from kedro.extras.datasets.pandas import CSVDataSet"
   ]
  },
  {
   "cell_type": "code",
   "execution_count": 23,
   "id": "18f0faad",
   "metadata": {},
   "outputs": [],
   "source": [
    "ds = CSVDataSet(filepath='../data/03_primary/filtered_bronze.csv')"
   ]
  },
  {
   "cell_type": "code",
   "execution_count": 24,
   "id": "5b00fe55",
   "metadata": {},
   "outputs": [],
   "source": [
    "df = ds.load()"
   ]
  },
  {
   "cell_type": "code",
   "execution_count": null,
   "id": "3ad3907f",
   "metadata": {},
   "outputs": [],
   "source": []
  }
 ],
 "metadata": {
  "kernelspec": {
   "display_name": "FactbookDataPipeline",
   "language": "python",
   "name": "python3"
  },
  "language_info": {
   "codemirror_mode": {
    "name": "ipython",
    "version": 3
   },
   "file_extension": ".py",
   "mimetype": "text/x-python",
   "name": "python",
   "nbconvert_exporter": "python",
   "pygments_lexer": "ipython3",
   "version": "3.8.11"
  }
 },
 "nbformat": 4,
 "nbformat_minor": 5
}
