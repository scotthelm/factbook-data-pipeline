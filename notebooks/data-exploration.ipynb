{
 "cells": [
  {
   "cell_type": "code",
   "execution_count": 1,
   "id": "4e47d063",
   "metadata": {},
   "outputs": [
    {
     "name": "stderr",
     "output_type": "stream",
     "text": [
      "/usr/local/lib/python3.8/site-packages/ipykernel/ipkernel.py:283: DeprecationWarning: `should_run_async` will not call `transform_cell` automatically in the future. Please pass the result to `transformed_cell` argument and any exception that happen during thetransform in `preprocessing_exc_tuple` in IPython 7.17 and above.\n",
      "  and should_run_async(code)\n"
     ]
    }
   ],
   "source": [
    "import pandas as pd"
   ]
  },
  {
   "cell_type": "code",
   "execution_count": 2,
   "id": "1d52ddc1",
   "metadata": {},
   "outputs": [],
   "source": [
    "from kedro.extras.datasets.pandas import CSVDataSet"
   ]
  },
  {
   "cell_type": "code",
   "execution_count": 3,
   "id": "18f0faad",
   "metadata": {},
   "outputs": [],
   "source": [
    "ds = CSVDataSet(filepath='../data/03_primary/silver_dataset.csv')"
   ]
  },
  {
   "cell_type": "code",
   "execution_count": 4,
   "id": "5b00fe55",
   "metadata": {},
   "outputs": [],
   "source": [
    "df = ds.load()"
   ]
  },
  {
   "cell_type": "code",
   "execution_count": 15,
   "id": "0414faba",
   "metadata": {},
   "outputs": [
    {
     "data": {
      "text/plain": [
       "0         0\n",
       "1       362\n",
       "2       998\n",
       "3         0\n",
       "4      1600\n",
       "       ... \n",
       "190    2800\n",
       "191    3444\n",
       "192    1906\n",
       "193       0\n",
       "194       0\n",
       "Name: coastline_km, Length: 195, dtype: object"
      ]
     },
     "execution_count": 15,
     "metadata": {},
     "output_type": "execute_result"
    }
   ],
   "source": [
    "df['coastline_km']"
   ]
  },
  {
   "cell_type": "code",
   "execution_count": null,
   "id": "874290b6",
   "metadata": {},
   "outputs": [],
   "source": []
  }
 ],
 "metadata": {
  "kernelspec": {
   "display_name": "FactbookDataPipeline",
   "language": "python",
   "name": "python3"
  },
  "language_info": {
   "codemirror_mode": {
    "name": "ipython",
    "version": 3
   },
   "file_extension": ".py",
   "mimetype": "text/x-python",
   "name": "python",
   "nbconvert_exporter": "python",
   "pygments_lexer": "ipython3",
   "version": "3.8.11"
  }
 },
 "nbformat": 4,
 "nbformat_minor": 5
}
